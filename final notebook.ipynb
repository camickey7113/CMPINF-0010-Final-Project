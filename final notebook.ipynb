{
 "cells": [
  {
   "cell_type": "markdown",
   "metadata": {},
   "source": [
    "# Best Neighborhood Report"
   ]
  },
  {
   "cell_type": "markdown",
   "metadata": {},
   "source": [
    "Determining the best neighborhood in Pittsburgh can be interpreted in many different ways. Depending on who you ask, best can meana variety of things in relation to a neighborhood. In order to choose our metric, we first considered what each of us believed to be what makes a neighborhood the best. Our team thinks that a good neighborhood is safe, has a nice appearance, and provides a good experience for a family to live in.\n",
    "\n",
    "Using this criteria, we brainstormed different ways to represent this type of neighborhood. We considered metrics such as the most beautiful neighborhood, the best for a family, and the safest neighborhood. However, after searching through the data sets provided on the data center, we were unable to find data specific enough to support many of the metrics we brainstormed.\n",
    "\n",
    "In the end, we decided that the neighborhood most suitable for children and a family would be the best."
   ]
  },
  {
   "cell_type": "markdown",
   "metadata": {},
   "source": [
    "## Metric"
   ]
  },
  {
   "cell_type": "markdown",
   "metadata": {},
   "source": [
    "In order to measure how suitable a neighborhood is for children, we looked at three different statistics that would be important for providing a child with a good experience.\n",
    "\n",
    "The first submetric is school enrollment. By examining the statistics about school enrollment by neighborhood, we can determine how suitable a neighborhood is for a child's education. Neighborhoods with more children enrolled in school are more likely to be safer, and provide friends for anyone looking to move in that has children of their own.\n",
    "\n",
    "The second submetric is the number of playgrounds in the neighborhood. Playgrounds are an important part of a childhood because they allow kids to exercise while also meeting friends. Playgrounds also offer a space for families to come together outside in neighborhoods where there are not many yards.\n",
    "\n",
    "The third submetric is the number of playing fields in the neighborhood. Similar to playgrounds, fields are places where people of any age can play sports, hold events, and get exercise. Fields especially appeal to order kids, such as those in high school or college, that have outgrown a playground.\n",
    "\n",
    "By combining these three submetrics, we can measure the best neighborhood. We combine them by first assigning each neighborhood the number of points of its ratio of enrollment. We then add five points for each field present (six points if the field has lights) and five points for each playground present. The final number is the score for the neighborhood. "
   ]
  },
  {
   "cell_type": "markdown",
   "metadata": {},
   "source": [
    "**Calculation: (ratio of enrollment) + (number of playing fields w/out lights * 5) +  (number of playing fields w/lights * 6) + (number of playgrounds * 4)**"
   ]
  },
  {
   "cell_type": "code",
   "execution_count": null,
   "metadata": {},
   "outputs": [],
   "source": []
  }
 ],
 "metadata": {
  "kernelspec": {
   "display_name": "Python 3",
   "language": "python",
   "name": "python3"
  },
  "language_info": {
   "codemirror_mode": {
    "name": "ipython",
    "version": 3
   },
   "file_extension": ".py",
   "mimetype": "text/x-python",
   "name": "python",
   "nbconvert_exporter": "python",
   "pygments_lexer": "ipython3",
   "version": "3.8.3"
  }
 },
 "nbformat": 4,
 "nbformat_minor": 4
}
