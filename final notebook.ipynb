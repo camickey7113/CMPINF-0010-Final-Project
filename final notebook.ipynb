{
 "cells": [
  {
   "cell_type": "markdown",
   "metadata": {},
   "source": [
    "# Best Neighborhood Report"
   ]
  },
  {
   "cell_type": "markdown",
   "metadata": {},
   "source": [
    "Determining the best neighborhood in Pittsburgh can be interpreted in many different ways. Depending on who you ask, best can meana variety of things in relation to a neighborhood. In order to choose our metric, we first considered what each of us believed to be what makes a neighborhood the best. Our team thinks that a good neighborhood is safe, has a nice appearance, and provides a good experience for a family to live in.\n",
    "\n",
    "Using this criteria, we brainstormed different ways to represent this type of neighborhood. We considered metrics such as the most beautiful neighborhood, the best for a family, and the safest neighborhood. However, after searching through the data sets provided on the data center, we were unable to find data specific enough to support many of the metrics we brainstormed.\n",
    "\n",
    "In the end, we decided that the neighborhood most suitable for children and a family would be the best."
   ]
  },
  {
   "cell_type": "markdown",
   "metadata": {},
   "source": [
    "## Metric"
   ]
  },
  {
   "cell_type": "markdown",
   "metadata": {},
   "source": [
    "By examining the statistics about school enrollment by neighborhood, we can determine how suitable a neighborhood is for a child's education. Neighborhoods with more children enrolled in school are more likely to be safer, and provide friends for anyone looking to move in that has children of their own. \n",
    "\n",
    "In order to determine the neighborhoods with the most children enrolled in school, we will be pulling statistics from data published on the Western Pennsylvania Regional Data Center."
   ]
  }
 ],
 "metadata": {
  "kernelspec": {
   "display_name": "Python 3",
   "language": "python",
   "name": "python3"
  },
  "language_info": {
   "codemirror_mode": {
    "name": "ipython",
    "version": 3
   },
   "file_extension": ".py",
   "mimetype": "text/x-python",
   "name": "python",
   "nbconvert_exporter": "python",
   "pygments_lexer": "ipython3",
   "version": "3.8.3"
  }
 },
 "nbformat": 4,
 "nbformat_minor": 4
}
